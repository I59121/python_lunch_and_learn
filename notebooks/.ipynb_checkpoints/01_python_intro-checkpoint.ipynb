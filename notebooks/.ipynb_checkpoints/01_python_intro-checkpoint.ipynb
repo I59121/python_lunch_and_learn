{
 "cells": [
  {
   "cell_type": "markdown",
   "metadata": {},
   "source": [
    "# Python Basics"
   ]
  },
  {
   "cell_type": "markdown",
   "metadata": {},
   "source": [
    "If you have not installed Python yet. I recommend you install Python 3.X using Anaconda (https://www.anaconda.com/). Anaconda makes it easier to manage and install various libraries."
   ]
  },
  {
   "cell_type": "markdown",
   "metadata": {},
   "source": [
    "This notebook introduces data types in Python, containers for combining data variables, and functions. It is heavily based on the Python Tutorial from Stanford's CS231n course: https://cs231n.github.io/python-numpy-tutorial/ which I encourage you to go through also.\n",
    "\n",
    "The Python Tutorial on w3schools is also good and more comprehensive: https://www.w3schools.com/python/default.asp"
   ]
  },
  {
   "cell_type": "markdown",
   "metadata": {},
   "source": [
    "## Data types"
   ]
  },
  {
   "cell_type": "markdown",
   "metadata": {},
   "source": [
    "Python has a number of data types including numbers and strings."
   ]
  },
  {
   "cell_type": "markdown",
   "metadata": {},
   "source": [
    "### Numbers"
   ]
  },
  {
   "cell_type": "markdown",
   "metadata": {},
   "source": [
    "There are two types of numbers: integers like 1 and floats like 1.0"
   ]
  },
  {
   "cell_type": "code",
   "execution_count": 1,
   "metadata": {},
   "outputs": [
    {
     "name": "stdout",
     "output_type": "stream",
     "text": [
      "5\n",
      "<type 'int'>\n",
      "6\n",
      "4\n",
      "10\n",
      "25\n",
      "6\n",
      "12\n"
     ]
    }
   ],
   "source": [
    "##############\n",
    "# integers\n",
    "##############\n",
    "# create variable x = 5 \n",
    "x = 5\n",
    "\n",
    "# print variable\n",
    "print(x)       # Prints \"5\"\n",
    "# check variable type\n",
    "print(type(x)) # Prints \"<class 'int'>\"\n",
    "\n",
    "\n",
    "# mathematical operations\n",
    "print(x + 1)   # Addition; prints \"6\"\n",
    "print(x - 1)   # Subtraction; prints \"4\"\n",
    "print(x * 2)   # Multiplication; prints \"10\"\n",
    "print(x ** 2)  # Exponentiation; prints \"25\"\n",
    "x += 1\n",
    "print(x)  # Prints \"6\"\n",
    "x *= 2\n",
    "print(x)  # Prints \"12\""
   ]
  },
  {
   "cell_type": "code",
   "execution_count": 2,
   "metadata": {},
   "outputs": [
    {
     "name": "stdout",
     "output_type": "stream",
     "text": [
      "<type 'float'>\n",
      "5.0\n",
      "6.0\n",
      "4.0\n",
      "10.0\n",
      "25.0\n",
      "2.5\n",
      "6.0\n",
      "12.0\n"
     ]
    }
   ],
   "source": [
    "##############\n",
    "# floats\n",
    "##############\n",
    "# create variable x = 5 \n",
    "x = 5.0\n",
    "\n",
    "# check variable type\n",
    "print(type(x)) # Prints \"<class 'float'>\"\n",
    "print(x)       # Prints \"5.0\"\n",
    "\n",
    "# mathematical operations\n",
    "print(x + 1)   # Addition; prints \"6.0\"\n",
    "print(x - 1)   # Subtraction; prints \"4.0\"\n",
    "print(x * 2)   # Multiplication; prints \"10.0\"\n",
    "print(x ** 2)  # Exponentiation; prints \"25.0\"\n",
    "print(x/2)     # Division; prints \"2.5\"\n",
    "x += 1\n",
    "print(x)  # Prints \"6.0\"\n",
    "x *= 2\n",
    "print(x)  # Prints \"12.0\""
   ]
  },
  {
   "cell_type": "markdown",
   "metadata": {},
   "source": [
    "### Strings"
   ]
  },
  {
   "cell_type": "markdown",
   "metadata": {},
   "source": [
    "Strings are another data type you'll likely use a lot"
   ]
  },
  {
   "cell_type": "code",
   "execution_count": 3,
   "metadata": {},
   "outputs": [
    {
     "name": "stdout",
     "output_type": "stream",
     "text": [
      "hello\n",
      "<type 'str'>\n",
      "5\n",
      "hello world\n"
     ]
    }
   ],
   "source": [
    "hello = 'hello'    # String literals can use single quotes\n",
    "world = \"world\"    # or double quotes; it does not matter.\n",
    "print(hello)       # Prints \"hello\"\n",
    "print(type(hello)) # Prints \"<class 'str'>\"\n",
    "print(len(hello))  # String length; prints \"5\"\n",
    "hw = hello + ' ' + world  # String concatenation\n",
    "print(hw)  # prints \"hello world\""
   ]
  },
  {
   "cell_type": "code",
   "execution_count": 4,
   "metadata": {},
   "outputs": [
    {
     "name": "stdout",
     "output_type": "stream",
     "text": [
      "World\n",
      "WORLD\n",
      "world\n"
     ]
    }
   ],
   "source": [
    "s = \"world\"\n",
    "s = s.capitalize()     # Capitalize a string; \n",
    "print(s)               # Prints \"World\"\n",
    "print(s.upper())       # Convert a string to uppercase; prints \"WORLD\"\n",
    "print(s.lower())       # Convert a string to lowercase; prints \"world\""
   ]
  },
  {
   "cell_type": "markdown",
   "metadata": {},
   "source": [
    "### Booleans"
   ]
  },
  {
   "cell_type": "markdown",
   "metadata": {},
   "source": [
    "Boolean are logical operators which can be useful for things like data subsetting"
   ]
  },
  {
   "cell_type": "code",
   "execution_count": 5,
   "metadata": {},
   "outputs": [
    {
     "name": "stdout",
     "output_type": "stream",
     "text": [
      "(True, False)\n",
      "<type 'bool'>\n",
      "False\n",
      "True\n"
     ]
    }
   ],
   "source": [
    "t = True\n",
    "f = False\n",
    "print(t, f)    # Prints \"True False\"\n",
    "print(type(t)) # Prints \"<class 'bool'>\"\n",
    "print(not t)   # Logical NOT; prints \"False\"\n",
    "print(t != f)  # Logical XOR; prints \"True\""
   ]
  },
  {
   "cell_type": "markdown",
   "metadata": {},
   "source": [
    "## Containers"
   ]
  },
  {
   "cell_type": "markdown",
   "metadata": {},
   "source": [
    "There are various containers in python which can be used to combine and store the data types discussed above."
   ]
  },
  {
   "cell_type": "markdown",
   "metadata": {},
   "source": [
    "### Lists"
   ]
  },
  {
   "cell_type": "markdown",
   "metadata": {},
   "source": [
    "A list is an array of variables, can contain elements of different types"
   ]
  },
  {
   "cell_type": "code",
   "execution_count": 6,
   "metadata": {},
   "outputs": [
    {
     "name": "stdout",
     "output_type": "stream",
     "text": [
      "[1, 2, 3]\n",
      "(1, 2, 3)\n",
      "3\n",
      "[1, 2, 'hello']\n",
      "[1, 2, 'hello', 'world']\n",
      "('world', [1, 2, 'hello'])\n"
     ]
    }
   ],
   "source": [
    "xs = [1, 2, 3]    # Create a list\n",
    "print(xs)         # Prints \"[1, 2, 3]\"\n",
    "print(xs[0], xs[1], xs[2]) # Prints \"1, 2, 3\"\n",
    "print(xs[-1])     # Negative indices count from the end of the list; prints \"2\"\n",
    "xs[2] = 'hello'     # Lists can contain elements of different types\n",
    "print(xs)         # Prints \"[1, 2, 'hello']\"\n",
    "xs.append('world')  # Add a new element to the end of the list\n",
    "print(xs)         # Prints \"[1, 2, 'hello', 'world']\"\n",
    "x = xs.pop()      # Remove and return the last element of the list\n",
    "print(x, xs)      # Prints \"world [1, 2, 'hello']\""
   ]
  },
  {
   "cell_type": "markdown",
   "metadata": {},
   "source": [
    "In addition to accessing list elements one at a time, Python provides easy access sublists - known as slicing"
   ]
  },
  {
   "cell_type": "code",
   "execution_count": 7,
   "metadata": {},
   "outputs": [
    {
     "name": "stdout",
     "output_type": "stream",
     "text": [
      "[1, 2, 'hello', 'world']\n",
      "[2, 'hello']\n",
      "['hello', 'world']\n",
      "[1, 2]\n",
      "[1, 2, 'hello', 'world']\n",
      "[1, 2, 'hello']\n"
     ]
    }
   ],
   "source": [
    "xs = [1, 2, 'hello', 'world']\n",
    "print(xs)               # Prints \"[1, 2, 'hello', 'world']\"\n",
    "print(xs[1:3])          # Get a slice from index 2 to 4 (exclusive); prints \"[1, 2, 'hello', 'world']\"\n",
    "print(xs[2:])           # Get a slice from index 2 to the end; prints \"['hello', 'world']\"\n",
    "print(xs[:2])           # Get a slice from the start to index 2 (exclusive); prints \"[1, 2]\"\n",
    "print(xs[:])            # Get a slice of the whole list; prints \"[1, 2, 'hello', 'world']\"\n",
    "print(xs[:-1])          # Slice indices can be negative; prints \"[1, 2, 'hello']\""
   ]
  },
  {
   "cell_type": "markdown",
   "metadata": {},
   "source": [
    "You can loop over the elements of a list like this:"
   ]
  },
  {
   "cell_type": "code",
   "execution_count": 8,
   "metadata": {},
   "outputs": [
    {
     "name": "stdout",
     "output_type": "stream",
     "text": [
      "1\n",
      "2\n",
      "hello\n",
      "world\n"
     ]
    }
   ],
   "source": [
    "xs = [1, 2, 'hello', 'world']\n",
    "for var in xs:\n",
    "    print(var)\n",
    "# Prints 1, 2, 'hello', 'world', each on its own line."
   ]
  },
  {
   "cell_type": "markdown",
   "metadata": {},
   "source": [
    "If you want access to the index of each element within the body of a loop, use the built-in enumerate function:"
   ]
  },
  {
   "cell_type": "code",
   "execution_count": 9,
   "metadata": {},
   "outputs": [
    {
     "name": "stdout",
     "output_type": "stream",
     "text": [
      "(0, 1)\n",
      "(1, 2)\n",
      "(2, 'hello')\n",
      "(3, 'world')\n"
     ]
    }
   ],
   "source": [
    "for idx, var in enumerate(xs):\n",
    "    print(idx, var)"
   ]
  },
  {
   "cell_type": "markdown",
   "metadata": {},
   "source": [
    "We can use list comprehensions to simplify and increase the efficiency loops in certain scenarios"
   ]
  },
  {
   "cell_type": "code",
   "execution_count": 10,
   "metadata": {},
   "outputs": [
    {
     "name": "stdout",
     "output_type": "stream",
     "text": [
      "[1, 4, 9, 16]\n",
      "[1, 4, 9, 16]\n"
     ]
    }
   ],
   "source": [
    "nums = [1, 2, 3, 4]\n",
    "squares = []\n",
    "for var in nums:\n",
    "    squares.append(var ** 2)\n",
    "print(squares) # Prints [1, 4, 9, 16]\n",
    "\n",
    "squares_comprehension = [var ** 2 for var in nums] \n",
    "print(squares_comprehension) # Prints [1, 4, 9, 16]"
   ]
  },
  {
   "cell_type": "markdown",
   "metadata": {},
   "source": [
    "### Dictionaries"
   ]
  },
  {
   "cell_type": "markdown",
   "metadata": {},
   "source": [
    "A dictionary stores (key, value) pairs, and are very useful storing metadata etc."
   ]
  },
  {
   "cell_type": "code",
   "execution_count": 11,
   "metadata": {},
   "outputs": [
    {
     "name": "stdout",
     "output_type": "stream",
     "text": [
      "3\n",
      "True\n",
      "??\n"
     ]
    }
   ],
   "source": [
    "d = {'win': 3, 'draw': 1, 'loss': 0} # create a new dictionary\n",
    "print(d['win'])       # Get an entry from a dictionary; prints \"3\"\n",
    "print('win' in d)     # Check if a dictionary has a given key; prints \"True\"\n",
    "d['cancelled'] = '??'     # Set an entry in a dictionary\n",
    "print(d['cancelled'])      # Prints \"??\""
   ]
  },
  {
   "cell_type": "markdown",
   "metadata": {},
   "source": [
    "It is also easy to iterate over the keys in a dictionary:"
   ]
  },
  {
   "cell_type": "code",
   "execution_count": 12,
   "metadata": {},
   "outputs": [
    {
     "name": "stdout",
     "output_type": "stream",
     "text": [
      "A win earns a team 3 points\n",
      "A draw earns a team 1 points\n",
      "A loss earns a team 0 points\n"
     ]
    }
   ],
   "source": [
    "d = {'win': 3, 'draw': 1, 'loss': 0}\n",
    "for outcome in d:\n",
    "    points = d[outcome]\n",
    "    print('A %s earns a team %d points' % (outcome, points))"
   ]
  },
  {
   "cell_type": "markdown",
   "metadata": {},
   "source": [
    "### Sets"
   ]
  },
  {
   "cell_type": "markdown",
   "metadata": {},
   "source": [
    "A set is an unordered collection of distinct elements. As a simple example, consider the following"
   ]
  },
  {
   "cell_type": "code",
   "execution_count": 13,
   "metadata": {},
   "outputs": [
    {
     "name": "stdout",
     "output_type": "stream",
     "text": [
      "True\n",
      "False\n",
      "True\n",
      "3\n",
      "3\n",
      "2\n"
     ]
    }
   ],
   "source": [
    "animals = {'cat', 'dog'}\n",
    "print('cat' in animals)   # Check if an element is in a set; prints \"True\"\n",
    "print('horse' in animals)  # prints \"False\"\n",
    "animals.add('horse')       # Add an element to a set\n",
    "print('horse' in animals)  # Prints \"True\"\n",
    "print(len(animals))       # Number of elements in a set; prints \"3\"\n",
    "animals.add('cat')        # Adding an element that is already in the set does nothing\n",
    "print(len(animals))       # Prints \"3\"\n",
    "animals.remove('cat')     # Remove an element from a set\n",
    "print(len(animals))       # Prints \"2\""
   ]
  },
  {
   "cell_type": "markdown",
   "metadata": {},
   "source": [
    "A loop is the same syntax as for a list"
   ]
  },
  {
   "cell_type": "code",
   "execution_count": 14,
   "metadata": {},
   "outputs": [
    {
     "name": "stdout",
     "output_type": "stream",
     "text": [
      "horse\n",
      "dog\n",
      "cat\n"
     ]
    }
   ],
   "source": [
    "animals = {'cat', 'dog', 'horse'}\n",
    "for a in animals:\n",
    "    print(a)\n",
    "# Prints 'cat', 'dog', 'horse' each on its own line."
   ]
  },
  {
   "cell_type": "markdown",
   "metadata": {},
   "source": [
    "### Combining containers"
   ]
  },
  {
   "cell_type": "markdown",
   "metadata": {},
   "source": [
    "You will often end up combining containers together"
   ]
  },
  {
   "cell_type": "code",
   "execution_count": 15,
   "metadata": {
    "collapsed": true
   },
   "outputs": [],
   "source": [
    "# create three dictionaries using population data from World Bank and JHU covid19 data\n",
    "irl = {'country': 'Ireland', 'population': 4.9, 'deaths': 486}\n",
    "uk  = {'country': 'UK', 'population': 66.65, 'deaths': 13759}\n",
    "sk  = {'country': 'South Korea', 'population': 51.64, 'deaths': 230}"
   ]
  },
  {
   "cell_type": "code",
   "execution_count": 16,
   "metadata": {},
   "outputs": [
    {
     "name": "stdout",
     "output_type": "stream",
     "text": [
      "[{'country': 'Ireland', 'deaths': 486, 'population': 4.9}, {'country': 'UK', 'deaths': 13759, 'population': 66.65}, {'country': 'South Korea', 'deaths': 230, 'population': 51.64}]\n"
     ]
    }
   ],
   "source": [
    "# combine them into a list\n",
    "countries = [irl, uk, sk]\n",
    "print(countries) # prints [{'country': 'Ireland', 'deaths': 486, 'population': 4.9}, {'country': 'UK', 'deaths': 13759, 'population': 66.65}, {'country': 'South Korea', 'deaths': 230, 'population': 51.64}]"
   ]
  },
  {
   "cell_type": "markdown",
   "metadata": {},
   "source": [
    "We can then use a loop to add a new key,value pair to each dictionary in the list"
   ]
  },
  {
   "cell_type": "code",
   "execution_count": 17,
   "metadata": {},
   "outputs": [
    {
     "name": "stdout",
     "output_type": "stream",
     "text": [
      "[{'deaths_pm': 99.18367346938774, 'country': 'Ireland', 'deaths': 486, 'population': 4.9}, {'deaths_pm': 206.43660915228804, 'country': 'UK', 'deaths': 13759, 'population': 66.65}, {'deaths_pm': 4.453911696359412, 'country': 'South Korea', 'deaths': 230, 'population': 51.64}]\n"
     ]
    }
   ],
   "source": [
    "for c in countries:\n",
    "    c['deaths_pm'] = c['deaths'] / c['population']\n",
    "\n",
    "print(countries) # prints [{'deaths_pm': 99.18367346938774, 'country': 'Ireland', 'deaths': 486, 'population': 4.9}, {'deaths_pm': 206.43660915228804, 'country': 'UK', 'deaths': 13759, 'population': 66.65}, {'deaths_pm': 4.453911696359412, 'country': 'South Korea', 'deaths': 230, 'population': 51.64}]"
   ]
  },
  {
   "cell_type": "markdown",
   "metadata": {},
   "source": [
    "## Functions"
   ]
  },
  {
   "cell_type": "markdown",
   "metadata": {},
   "source": [
    "Functions are useful when you want to apply an operation to multiple variables"
   ]
  },
  {
   "cell_type": "code",
   "execution_count": 18,
   "metadata": {},
   "outputs": [
    {
     "name": "stdout",
     "output_type": "stream",
     "text": [
      "negative\n",
      "zero\n",
      "positive\n"
     ]
    }
   ],
   "source": [
    "# sign function\n",
    "def sign(x):\n",
    "    if x > 0:\n",
    "        return 'positive'\n",
    "    elif x < 0:\n",
    "        return 'negative'\n",
    "    else:\n",
    "        return 'zero'\n",
    "\n",
    "for x in [-1, 0, 1]:\n",
    "    print(sign(x)) # prints 'negative', 'zero', 'positive' on separate lines"
   ]
  },
  {
   "cell_type": "code",
   "execution_count": 19,
   "metadata": {},
   "outputs": [
    {
     "name": "stdout",
     "output_type": "stream",
     "text": [
      "['Extreme Risk', 'Extreme Risk', 'Extreme Risk', 'High Risk', 'Medium Risk', 'Medium Risk', 'Medium Risk', 'Low Risk']\n"
     ]
    }
   ],
   "source": [
    "# function to convert numbers to maplecroft risk categories\n",
    "def maple_risk(x):\n",
    "    if x >= 7.5:\n",
    "        return 'Low Risk'\n",
    "    elif x <= 2.5:\n",
    "        return 'Extreme Risk'\n",
    "    elif x > 2.5 and x <=5:\n",
    "        return 'High Risk'\n",
    "    else:\n",
    "        return 'Medium Risk'\n",
    "\n",
    "risk_categories = [maple_risk(x) for x in [0.1, 1, 2, 3.4, 5.5, 6, 6.6, 8]]\n",
    "print(risk_categories) # prints ['Extreme Risk', 'Extreme Risk', 'Extreme Risk', 'High Risk', 'Medium Risk', 'Medium Risk', 'Medium Risk', 'Low Risk']"
   ]
  }
 ],
 "metadata": {
  "kernelspec": {
   "display_name": "Python 3",
   "language": "python",
   "name": "python3"
  },
  "language_info": {
   "codemirror_mode": {
    "name": "ipython",
    "version": 3
   },
   "file_extension": ".py",
   "mimetype": "text/x-python",
   "name": "python",
   "nbconvert_exporter": "python",
   "pygments_lexer": "ipython3",
   "version": "3.5.3"
  }
 },
 "nbformat": 4,
 "nbformat_minor": 2
}
